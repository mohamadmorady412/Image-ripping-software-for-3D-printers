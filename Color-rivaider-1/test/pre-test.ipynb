{
  "nbformat": 4,
  "nbformat_minor": 0,
  "metadata": {
    "colab": {
      "provenance": []
    },
    "kernelspec": {
      "name": "python3",
      "display_name": "Python 3"
    },
    "language_info": {
      "name": "python"
    }
  },
  "cells": [
    {
      "cell_type": "code",
      "source": [
        "from google.colab import drive\n",
        "drive.mount('/content/drive')"
      ],
      "metadata": {
        "colab": {
          "base_uri": "https://localhost:8080/"
        },
        "id": "YODlLP_2kSO1",
        "outputId": "06359d34-21c7-4308-f263-b6e96fddb6b6"
      },
      "execution_count": null,
      "outputs": [
        {
          "output_type": "stream",
          "name": "stdout",
          "text": [
            "Drive already mounted at /content/drive; to attempt to forcibly remount, call drive.mount(\"/content/drive\", force_remount=True).\n"
          ]
        }
      ]
    },
    {
      "cell_type": "code",
      "execution_count": null,
      "metadata": {
        "id": "5E2YPhJQDzgU"
      },
      "outputs": [],
      "source": [
        "import numpy as np\n",
        "import keras\n",
        "from keras.models import load_model , Sequential , Model\n",
        "from keras.layers import Dense , Activation , TimeDistributed, GRU\n",
        "import matplotlib.pyplot as plt"
      ]
    },
    {
      "cell_type": "code",
      "source": [
        "# DNN وGRUs وontology\n",
        "model_ = Sequential()\n",
        "model_.add(Dense(32, input_shape=(784,)))\n",
        "#model_.add(TimeDistributed())\n",
        "#model_.add(GRU())\n",
        "model_.add(Activation('relu'))\n",
        "model_.add(Dense(10))\n",
        "model_.add(Activation('softmax'))\n",
        "model_.summary()"
      ],
      "metadata": {
        "id": "HltpULZKKlSh"
      },
      "execution_count": null,
      "outputs": []
    },
    {
      "cell_type": "code",
      "source": [
        "# بارگذاری و پیش‌پردازش داده‌های آموزشی\n",
        "# اینجا از داده‌های CIFAR-10 استفاده می‌کنیم که شامل 60000 عکس رنگی 32x32 پیکسلی از 10 کلاس مختلف است\n",
        "(x_train, y_train), (x_test, y_test) = keras.datasets.cifar10.load_data()"
      ],
      "metadata": {
        "id": "tYxVUl4XEnL8",
        "colab": {
          "base_uri": "https://localhost:8080/"
        },
        "outputId": "fc3ba3d5-3ba2-4b01-ca64-111b8cc8860a"
      },
      "execution_count": null,
      "outputs": [
        {
          "output_type": "stream",
          "name": "stdout",
          "text": [
            "Downloading data from https://www.cs.toronto.edu/~kriz/cifar-10-python.tar.gz\n",
            "170498071/170498071 [==============================] - 4s 0us/step\n"
          ]
        }
      ]
    },
    {
      "cell_type": "code",
      "source": [
        "# تبدیل عکس‌های رنگی به سیاه و سفید با استفاده از فرمول Y = 0.299 R + 0.587 G + 0.114 B\n",
        "x_train_gray = np.dot(x_train[...,:3], [0.299, 0.587, 0.114])\n",
        "x_test_gray = np.dot(x_test[...,:3], [0.299, 0.587, 0.114])\n",
        "\n",
        "# کاهش مقیاس رنگ‌ها از 0 تا 255 به 0 تا 1\n",
        "x_train = x_train / 255.0\n",
        "x_test = x_test / 255.0\n",
        "x_train_gray = x_train_gray / 255.0\n",
        "x_test_gray = x_test_gray / 255.0\n",
        "\n",
        "# افزودن بعد کانال به عکس‌های سیاه و سفید\n",
        "x_train_gray = np.expand_dims(x_train_gray, axis=3)\n",
        "x_test_gray = np.expand_dims(x_test_gray, axis=3)"
      ],
      "metadata": {
        "id": "9852LvLlFMoV"
      },
      "execution_count": null,
      "outputs": []
    },
    {
      "cell_type": "code",
      "source": [
        "model = load_model('/content/drive/MyDrive/mymodel.h5')"
      ],
      "metadata": {
        "id": "u0uz74b3GfBB"
      },
      "execution_count": null,
      "outputs": []
    },
    {
      "cell_type": "code",
      "source": [
        "# پیش‌بینی رنگ برای یک عکس سیاه و سفید تصادفی از داده‌های آزمون\n",
        "index = np.random.randint(0, 10000)\n",
        "x = x_test_gray[index]\n",
        "y = model.predict(x.reshape(1, 32, 32, 1))\n",
        "y = y.reshape(32, 32, 3)\n",
        "\n",
        "# نمایش عکس سیاه و سفید و رنگی شده\n",
        "plt.subplot(1, 2, 1)\n",
        "plt.imshow(x.squeeze(), cmap='gray')\n",
        "plt.title('Black and White')\n",
        "plt.subplot(1, 2, 2)\n",
        "plt.imshow(y)\n",
        "plt.title('Colorized')\n",
        "plt.show()"
      ],
      "metadata": {
        "colab": {
          "base_uri": "https://localhost:8080/",
          "height": 325
        },
        "id": "aZVW4QMqFw0o",
        "outputId": "aa4205a5-f383-43ad-e676-94ccea3de833"
      },
      "execution_count": null,
      "outputs": [
        {
          "output_type": "stream",
          "name": "stdout",
          "text": [
            "1/1 [==============================] - 0s 38ms/step\n"
          ]
        },
        {
          "output_type": "display_data",
          "data": {
            "text/plain": [
              "<Figure size 640x480 with 2 Axes>"
            ],
            "image/png": "[encoded data removed]"
          },
          "metadata": {}
        }
      ]
    },
    {
      "cell_type": "markdown",
      "source": [
        "در قسمت پیچشی این مدل از شش لایه استفاده شده است. سه لایه اول به ترتیب 256و128و64 نورون هستند که برای استخراج ویژگی های محلی عکسها استفاده میشوند(ادغامی هستند که بیشتر برای نمونه کاهی به دلیل افزایش ناوردایی محلی و کاهش اندازه نمونه ورودی).\n",
        "پس از آن یک لایه فلاتن وجود دارد که تصویر را به بردار تبدیل میکند .\n",
        "ددو لایه آخر دنس هستند که که به ترتیب 1024و 3072 نورون دارند که برای لنجام عملیات خطی و توامان غیر خطی (امتیازات کلاس یا خروجی را محاسبه می کنند) ، بر روی بردار ورودی استفاده میشوند."
      ],
      "metadata": {
        "id": "1gzlKkC9OXVO"
      }
    },
    {
      "cell_type": "code",
      "source": [
        "model.summary()"
      ],
      "metadata": {
        "colab": {
          "base_uri": "https://localhost:8080/"
        },
        "id": "6iQv78coNItR",
        "outputId": "8611c7cb-9621-4d70-902a-d5f9793bc25a"
      },
      "execution_count": null,
      "outputs": [
        {
          "output_type": "stream",
          "name": "stdout",
          "text": [
            "Model: \"sequential_1\"\n",
            "_________________________________________________________________\n",
            " Layer (type)                Output Shape              Param #   \n",
            "=================================================================\n",
            " conv2d_4 (Conv2D)           (None, 32, 32, 64)        640       \n",
            "                                                                 \n",
            " conv2d_5 (Conv2D)           (None, 32, 32, 128)       73856     \n",
            "                                                                 \n",
            " conv2d_6 (Conv2D)           (None, 32, 32, 256)       295168    \n",
            "                                                                 \n",
            " conv2d_7 (Conv2D)           (None, 32, 32, 3)         6915      \n",
            "                                                                 \n",
            " flatten_1 (Flatten)         (None, 3072)              0         \n",
            "                                                                 \n",
            " dense_2 (Dense)             (None, 1024)              3146752   \n",
            "                                                                 \n",
            " dense_3 (Dense)             (None, 3072)              3148800   \n",
            "                                                                 \n",
            "=================================================================\n",
            "Total params: 6672131 (25.45 MB)\n",
            "Trainable params: 6672131 (25.45 MB)\n",
            "Non-trainable params: 0 (0.00 Byte)\n",
            "_________________________________________________________________\n"
          ]
        }
      ]
    }
  ]
}